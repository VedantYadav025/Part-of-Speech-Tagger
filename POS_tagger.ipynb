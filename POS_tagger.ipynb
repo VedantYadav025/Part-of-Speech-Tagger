{
  "nbformat": 4,
  "nbformat_minor": 0,
  "metadata": {
    "colab": {
      "provenance": []
    },
    "kernelspec": {
      "name": "python3",
      "display_name": "Python 3"
    },
    "language_info": {
      "name": "python"
    }
  },
  "cells": [
    {
      "cell_type": "markdown",
      "source": [
        "# Load dataset and libraries"
      ],
      "metadata": {
        "id": "cHx08zyoPJYS"
      }
    },
    {
      "cell_type": "code",
      "execution_count": null,
      "metadata": {
        "id": "P6IefWcULXkh"
      },
      "outputs": [],
      "source": [
        "import numpy as np\n",
        "import matplotlib.pyplot as plt\n",
        "import nltk\n",
        "from collections import defaultdict, Counter"
      ]
    },
    {
      "cell_type": "code",
      "source": [
        "from sklearn.model_selection import KFold\n",
        "from sklearn.metrics import confusion_matrix, accuracy_score, classification_report\n",
        "import seaborn as sns"
      ],
      "metadata": {
        "id": "x55R7D6AKzw8"
      },
      "execution_count": null,
      "outputs": []
    },
    {
      "cell_type": "code",
      "source": [
        "from nltk.corpus import brown"
      ],
      "metadata": {
        "id": "qZtKpZEDLySf"
      },
      "execution_count": null,
      "outputs": []
    },
    {
      "cell_type": "code",
      "source": [
        "# Download the Brown corpus\n",
        "nltk.download('brown')"
      ],
      "metadata": {
        "colab": {
          "base_uri": "https://localhost:8080/"
        },
        "id": "L-f00cB_MUz1",
        "outputId": "cdc352cb-89f7-427f-ccf8-45bead962aba"
      },
      "execution_count": null,
      "outputs": [
        {
          "output_type": "stream",
          "name": "stderr",
          "text": [
            "[nltk_data] Downloading package brown to /root/nltk_data...\n",
            "[nltk_data]   Unzipping corpora/brown.zip.\n"
          ]
        },
        {
          "output_type": "execute_result",
          "data": {
            "text/plain": [
              "True"
            ]
          },
          "metadata": {},
          "execution_count": 15
        }
      ]
    },
    {
      "cell_type": "code",
      "source": [
        "nltk.download('universal_tagset')"
      ],
      "metadata": {
        "colab": {
          "base_uri": "https://localhost:8080/"
        },
        "id": "luG-wzCJNrfL",
        "outputId": "3665b41b-4dc6-42e3-a999-ae990f4fc781"
      },
      "execution_count": null,
      "outputs": [
        {
          "output_type": "stream",
          "name": "stderr",
          "text": [
            "[nltk_data] Downloading package universal_tagset to /root/nltk_data...\n",
            "[nltk_data]   Unzipping taggers/universal_tagset.zip.\n"
          ]
        },
        {
          "output_type": "execute_result",
          "data": {
            "text/plain": [
              "True"
            ]
          },
          "metadata": {},
          "execution_count": 16
        }
      ]
    },
    {
      "cell_type": "code",
      "source": [
        "# Print categories in the Brown corpus\n",
        "categories = brown.categories()\n",
        "print('Categories: ', categories)"
      ],
      "metadata": {
        "colab": {
          "base_uri": "https://localhost:8080/"
        },
        "id": "QKBtu7FuMXrK",
        "outputId": "b8a49e9e-466d-402e-9fc9-b495731c7f7e"
      },
      "execution_count": null,
      "outputs": [
        {
          "output_type": "stream",
          "name": "stdout",
          "text": [
            "Categories:  ['adventure', 'belles_lettres', 'editorial', 'fiction', 'government', 'hobbies', 'humor', 'learned', 'lore', 'mystery', 'news', 'religion', 'reviews', 'romance', 'science_fiction']\n"
          ]
        }
      ]
    },
    {
      "cell_type": "code",
      "source": [
        "# Load the Brown corpus with universal tagset\n",
        "tagged_sentences = brown.tagged_sents(tagset='universal')\n",
        "\n",
        "# Display the first sentence\n",
        "print(tagged_sentences[0])"
      ],
      "metadata": {
        "colab": {
          "base_uri": "https://localhost:8080/"
        },
        "id": "3roVAtcTMhZW",
        "outputId": "58c01d44-4044-4ec0-a5c3-53390f437fb5"
      },
      "execution_count": null,
      "outputs": [
        {
          "output_type": "stream",
          "name": "stdout",
          "text": [
            "[('The', 'DET'), ('Fulton', 'NOUN'), ('County', 'NOUN'), ('Grand', 'ADJ'), ('Jury', 'NOUN'), ('said', 'VERB'), ('Friday', 'NOUN'), ('an', 'DET'), ('investigation', 'NOUN'), ('of', 'ADP'), (\"Atlanta's\", 'NOUN'), ('recent', 'ADJ'), ('primary', 'NOUN'), ('election', 'NOUN'), ('produced', 'VERB'), ('``', '.'), ('no', 'DET'), ('evidence', 'NOUN'), (\"''\", '.'), ('that', 'ADP'), ('any', 'DET'), ('irregularities', 'NOUN'), ('took', 'VERB'), ('place', 'NOUN'), ('.', '.')]\n"
          ]
        }
      ]
    },
    {
      "cell_type": "markdown",
      "source": [
        "# Dataset preparation"
      ],
      "metadata": {
        "id": "xOIvO1s-PGB_"
      }
    },
    {
      "cell_type": "code",
      "source": [
        "# Extract words and tags\n",
        "tagged_words = [(word.lower(), tag) for sentence in tagged_sentences for (word, tag) in sentence]\n",
        "words, tags = zip(*tagged_words)"
      ],
      "metadata": {
        "id": "gZKTiacjMw_j"
      },
      "execution_count": null,
      "outputs": []
    },
    {
      "cell_type": "code",
      "source": [
        "unique_tags = set(tags) # Get all the distinct tags present in the dataset\n",
        "print(\"No. of unique tags in the Brown corpus: \", len(unique_tags))"
      ],
      "metadata": {
        "colab": {
          "base_uri": "https://localhost:8080/"
        },
        "id": "MTy7BDvdTy7s",
        "outputId": "717cf702-15d7-459a-b0db-85411dff2709"
      },
      "execution_count": null,
      "outputs": [
        {
          "output_type": "stream",
          "name": "stdout",
          "text": [
            "No. of unique tags in the Brown corpus:  12\n"
          ]
        }
      ]
    },
    {
      "cell_type": "code",
      "source": [
        "# Display all the unique tags\n",
        "unique_tags"
      ],
      "metadata": {
        "colab": {
          "base_uri": "https://localhost:8080/"
        },
        "id": "kfkaJbpKd2dw",
        "outputId": "379996e5-efcb-42f3-badb-5eaa99170b0c"
      },
      "execution_count": null,
      "outputs": [
        {
          "output_type": "execute_result",
          "data": {
            "text/plain": [
              "{'.',\n",
              " 'ADJ',\n",
              " 'ADP',\n",
              " 'ADV',\n",
              " 'CONJ',\n",
              " 'DET',\n",
              " 'NOUN',\n",
              " 'NUM',\n",
              " 'PRON',\n",
              " 'PRT',\n",
              " 'VERB',\n",
              " 'X'}"
            ]
          },
          "metadata": {},
          "execution_count": 21
        }
      ]
    },
    {
      "cell_type": "code",
      "source": [
        "len(words), len(tags) # Get the length of the words to be tagged in the Brown corpus dataset"
      ],
      "metadata": {
        "colab": {
          "base_uri": "https://localhost:8080/"
        },
        "id": "PMHcZKkZPRdo",
        "outputId": "3c05e83d-c3d2-4a0a-84b6-b20a9fd2776c"
      },
      "execution_count": null,
      "outputs": [
        {
          "output_type": "execute_result",
          "data": {
            "text/plain": [
              "(1161192, 1161192)"
            ]
          },
          "metadata": {},
          "execution_count": 22
        }
      ]
    },
    {
      "cell_type": "markdown",
      "source": [
        "# Calculate transition and emission probabilities"
      ],
      "metadata": {
        "id": "T8N85Z8lFzMR"
      }
    },
    {
      "cell_type": "code",
      "source": [
        "# Probablity of P(tag_i | tag_i-1)\n",
        "tag_transition_prob = defaultdict(lambda: defaultdict(float))\n",
        "\n",
        "# Calculate no. of possibilities for each sequence of 2 tags\n",
        "for sentence in tagged_sentences:\n",
        "    prev_tag = \"START\"\n",
        "    for word, tag in sentence:\n",
        "        tag_transition_prob[prev_tag][tag] += 1\n",
        "        prev_tag = tag\n",
        "    tag_transition_prob[prev_tag][\"END\"] += 1\n",
        "\n",
        "# Calculate probabilities\n",
        "for prev_tag in tag_transition_prob: # Loop over all tag i\n",
        "    total_count = sum(tag_transition_prob[prev_tag].values())\n",
        "    for tag in tag_transition_prob[prev_tag]:\n",
        "        tag_transition_prob[prev_tag][tag] /= total_count"
      ],
      "metadata": {
        "id": "Q4SLcCNOPPGX"
      },
      "execution_count": null,
      "outputs": []
    },
    {
      "cell_type": "code",
      "source": [
        "# Calculate no. of words for every given tag\n",
        "word_given_tag_prob = defaultdict(lambda: defaultdict(float))\n",
        "for word, tag in tagged_words:\n",
        "    word_given_tag_prob[tag][word] += 1\n",
        "\n",
        "# Calculate probability from word counts for each tag\n",
        "for tag in word_given_tag_prob:\n",
        "    total_count = sum(word_given_tag_prob[tag].values())\n",
        "    for word in word_given_tag_prob[tag]:\n",
        "        word_given_tag_prob[tag][word] /= total_count"
      ],
      "metadata": {
        "id": "YYgZ1haMS1da"
      },
      "execution_count": null,
      "outputs": []
    },
    {
      "cell_type": "markdown",
      "source": [
        "# Viterbi algorithm code for prediction"
      ],
      "metadata": {
        "id": "jyBqq5UGGHCF"
      }
    },
    {
      "cell_type": "code",
      "source": [
        "# Function to calculate transition and emission probabilities with Laplace smoothing\n",
        "# Function is implemented in order to calculate transition and emissionn probabilities given the set of tagged_sentence\n",
        "# In the above calculation of the same, entire tag set was used\n",
        "# However, we have to use 5-fold cross validation, which needs this kind of function\n",
        "\n",
        "def calculate_transition_emission_probabilities(tagged_sentences):\n",
        "    tag_transition_prob = defaultdict(lambda: defaultdict(float))\n",
        "    word_given_tag_prob = defaultdict(lambda: defaultdict(float))\n",
        "    tag_counts = defaultdict(float)\n",
        "\n",
        "    for sentence in tagged_sentences:\n",
        "        prev_tag = \"START\"\n",
        "        for word, tag in sentence:\n",
        "            word = word.lower()\n",
        "            tag_transition_prob[prev_tag][tag] += 1\n",
        "            word_given_tag_prob[tag][word] += 1\n",
        "            tag_counts[tag] += 1\n",
        "            prev_tag = tag\n",
        "        tag_transition_prob[prev_tag][\"END\"] += 1\n",
        "\n",
        "    # Normalize transition probabilities with Laplace smoothing\n",
        "    for prev_tag in tag_transition_prob:\n",
        "        total = sum(tag_transition_prob[prev_tag].values()) + len(unique_tags)\n",
        "        for tag in list(unique_tags) + [\"END\"]:\n",
        "            tag_transition_prob[prev_tag][tag] = (tag_transition_prob[prev_tag][tag] + 1) / total\n",
        "\n",
        "    # Normalize emission probabilities with Laplace smoothing\n",
        "    for tag in word_given_tag_prob:\n",
        "        total = tag_counts[tag] + len(word_given_tag_prob[tag])\n",
        "        for word in word_given_tag_prob[tag]:\n",
        "            word_given_tag_prob[tag][word] = (word_given_tag_prob[tag][word] + 1) / total\n",
        "\n",
        "    return tag_transition_prob, word_given_tag_prob"
      ],
      "metadata": {
        "id": "LxEfpM8uK2-I"
      },
      "execution_count": null,
      "outputs": []
    },
    {
      "cell_type": "code",
      "source": [
        "def viterbi(sentence, transition_probs, emission_probs, unique_tags):\n",
        "\n",
        "    viterbi_matrix = [{}]\n",
        "    last_best_tag = [{}]\n",
        "\n",
        "    # Initialize with the start state using log probabilities\n",
        "    for tag in unique_tags:\n",
        "        transition_prob = np.log(transition_probs[\"START\"].get(tag, 1e-6))\n",
        "        emission_prob = np.log(emission_probs[tag].get(sentence[0].lower(), 1e-6))\n",
        "        viterbi_matrix[0][tag] = transition_prob + emission_prob\n",
        "        last_best_tag[0][tag] = \"START\"\n",
        "\n",
        "    # Update the viterbi matrix elements for every word in the sentence using log probabilities\n",
        "    for t in range(1, len(sentence)):\n",
        "        viterbi_matrix.append({})\n",
        "        last_best_tag.append({})\n",
        "\n",
        "        for tag in unique_tags:\n",
        "            max_prob, best_prev_tag = max(\n",
        "                (viterbi_matrix[t-1][prev_tag] +\n",
        "                 np.log(transition_probs[prev_tag].get(tag, 1e-6)) +\n",
        "                 np.log(emission_probs[tag].get(sentence[t].lower(), 1e-6)), prev_tag)\n",
        "                for prev_tag in unique_tags\n",
        "            )\n",
        "            viterbi_matrix[t][tag] = max_prob\n",
        "            last_best_tag[t][tag] = best_prev_tag\n",
        "\n",
        "    # Compute final state probabilities for different paths using log probabilities\n",
        "    max_prob, best_prev_tag = max(\n",
        "        (viterbi_matrix[-1][tag] + np.log(transition_probs[tag].get(\"END\", 1e-6)), tag)\n",
        "        for tag in unique_tags\n",
        "    )\n",
        "\n",
        "    # Get the final sequence of tags\n",
        "    best_path = [best_prev_tag]\n",
        "    for t in range(len(sentence)-1, 0, -1):\n",
        "        best_prev_tag = last_best_tag[t][best_prev_tag]\n",
        "        best_path.insert(0, best_prev_tag)\n",
        "\n",
        "    return best_path\n"
      ],
      "metadata": {
        "id": "cOkgw00oTtIg"
      },
      "execution_count": null,
      "outputs": []
    },
    {
      "cell_type": "code",
      "source": [
        "# Display POS tagging for one sentence\n",
        "for tagged_sentence in tagged_sentences:\n",
        "    sentence = [word.lower() for word, _ in tagged_sentence]\n",
        "    tags = [tag for _, tag in tagged_sentence]\n",
        "    predicted_tags = viterbi(sentence, tag_transition_prob, word_given_tag_prob, unique_tags)\n",
        "    print(sentence)\n",
        "    print(tags)\n",
        "    print(predicted_tags)\n",
        "    break"
      ],
      "metadata": {
        "colab": {
          "base_uri": "https://localhost:8080/"
        },
        "id": "ecRG2lINTbcc",
        "outputId": "9ea55a7a-2990-4bc1-85e3-d1eed905cf67"
      },
      "execution_count": null,
      "outputs": [
        {
          "output_type": "stream",
          "name": "stdout",
          "text": [
            "['the', 'fulton', 'county', 'grand', 'jury', 'said', 'friday', 'an', 'investigation', 'of', \"atlanta's\", 'recent', 'primary', 'election', 'produced', '``', 'no', 'evidence', \"''\", 'that', 'any', 'irregularities', 'took', 'place', '.']\n",
            "['DET', 'NOUN', 'NOUN', 'ADJ', 'NOUN', 'VERB', 'NOUN', 'DET', 'NOUN', 'ADP', 'NOUN', 'ADJ', 'NOUN', 'NOUN', 'VERB', '.', 'DET', 'NOUN', '.', 'ADP', 'DET', 'NOUN', 'VERB', 'NOUN', '.']\n",
            "['DET', 'NOUN', 'NOUN', 'ADJ', 'NOUN', 'VERB', 'NOUN', 'DET', 'NOUN', 'ADP', 'DET', 'ADJ', 'ADJ', 'NOUN', 'VERB', '.', 'DET', 'NOUN', '.', 'ADP', 'DET', 'NOUN', 'VERB', 'NOUN', '.']\n"
          ]
        }
      ]
    },
    {
      "cell_type": "markdown",
      "source": [
        "# 5-fold cross validation and HMM training"
      ],
      "metadata": {
        "id": "fDFypvodGhSA"
      }
    },
    {
      "cell_type": "code",
      "source": [
        "# Cross-validation and model evaluation\n",
        "kfold = KFold(n_splits=5, shuffle=True, random_state=1)\n",
        "tagged_sentences = np.array(tagged_sentences, dtype=object)\n",
        "y_true_all, y_pred_all = [], []\n",
        "\n",
        "for fold, (train_idx, test_idx) in enumerate(kfold.split(tagged_sentences)):\n",
        "    train_sentences = tagged_sentences[train_idx]\n",
        "    test_sentences = tagged_sentences[test_idx]\n",
        "\n",
        "    # Train HMM\n",
        "    transition_probs, emission_probs = calculate_transition_emission_probabilities(train_sentences)\n",
        "\n",
        "    y_true, y_pred = [], []\n",
        "\n",
        "    for sentence in test_sentences:\n",
        "        words = [word.lower() for word, _ in sentence]\n",
        "        true_tags = [tag for _, tag in sentence]\n",
        "        predicted_tags = viterbi(words, transition_probs, emission_probs, unique_tags)\n",
        "\n",
        "        # Align predictions and true tags (ignore start and end symbols)\n",
        "        y_true.extend(true_tags)\n",
        "        y_pred.extend(predicted_tags)\n",
        "\n",
        "    # Update overall true and predicted lists\n",
        "    y_true_all.extend(y_true)\n",
        "    y_pred_all.extend(y_pred)\n",
        "\n",
        "    # Calculate accuracy for the current fold\n",
        "    accuracy = accuracy_score(y_true, y_pred)\n",
        "    print(f'Fold {fold + 1} Accuracy: {accuracy:.4f}')\n"
      ],
      "metadata": {
        "id": "KmwufBLNK4p-",
        "outputId": "aae36bef-bff9-48ea-b3b5-bc0009f046bd",
        "colab": {
          "base_uri": "https://localhost:8080/"
        }
      },
      "execution_count": null,
      "outputs": [
        {
          "output_type": "stream",
          "name": "stdout",
          "text": [
            "Fold 1 Accuracy: 0.9585\n",
            "Fold 2 Accuracy: 0.9587\n",
            "Fold 3 Accuracy: 0.9579\n",
            "Fold 4 Accuracy: 0.9592\n",
            "Fold 5 Accuracy: 0.9579\n"
          ]
        }
      ]
    },
    {
      "cell_type": "markdown",
      "source": [
        "# Confusion matrix and per POS tag accuracy"
      ],
      "metadata": {
        "id": "4On5b1rOGnU0"
      }
    },
    {
      "cell_type": "code",
      "source": [
        "from sklearn.metrics import confusion_matrix, accuracy_score, classification_report\n",
        "import seaborn as sns\n",
        "from sklearn.metrics import confusion_matrix, ConfusionMatrixDisplay"
      ],
      "metadata": {
        "id": "AmFZLB2WCLsZ"
      },
      "execution_count": null,
      "outputs": []
    },
    {
      "cell_type": "code",
      "source": [
        "# Plot confusion matrix\n",
        "cm = confusion_matrix(y_true_all, y_pred_all, labels=list(unique_tags))\n",
        "disp = ConfusionMatrixDisplay(confusion_matrix=cm, display_labels=list(unique_tags))\n",
        "fig, ax = plt.subplots(figsize=(10,10))\n",
        "disp.plot(ax=ax)\n",
        "#disp.plot()\n",
        "plt.title('Confusion matrix for HMM prediction on entire dataset')\n",
        "plt.show()"
      ],
      "metadata": {
        "id": "wTMbMnqsK6rr",
        "colab": {
          "base_uri": "https://localhost:8080/",
          "height": 815
        },
        "outputId": "88e70255-bb2c-4e6a-87de-2fa1be7185d3"
      },
      "execution_count": null,
      "outputs": [
        {
          "output_type": "display_data",
          "data": {
            "text/plain": [
              "<Figure size 1000x1000 with 2 Axes>"
            ],
            "image/png": "[encoded data removed]"
          },
          "metadata": {}
        }
      ]
    },
    {
      "cell_type": "markdown",
      "source": [
        "**Per POS tag accuracy**\n",
        "\n",
        "We report the precision, recall and F-score for the each of the tags."
      ],
      "metadata": {
        "id": "gOmnqLohHpSY"
      }
    },
    {
      "cell_type": "code",
      "source": [
        "# Calculate accuracy for individual POS tags\n",
        "count = 0\n",
        "for tag in unique_tags:\n",
        "  precision = 1.*cm[count,count]/np.sum(cm[:,count])\n",
        "  recall = 1.*cm[count,count]/np.sum(cm[count,:])\n",
        "  fscore = 2*precision*recall/(precision+recall)\n",
        "  print(f'Tag: {tag} ' + f' Precision: {precision:.2f} ' + f' Recall: {recall:.2f} '+ f' F-score: {fscore:.2f} ')\n",
        "  count += 1"
      ],
      "metadata": {
        "colab": {
          "base_uri": "https://localhost:8080/"
        },
        "id": "_4jIOmVV_yRW",
        "outputId": "d661445c-18dc-4ada-e703-05844e76fa2b"
      },
      "execution_count": null,
      "outputs": [
        {
          "output_type": "stream",
          "name": "stdout",
          "text": [
            "Tag: PRT  Precision: 0.90  Recall: 0.91  F-score: 0.90 \n",
            "Tag: NOUN  Precision: 0.96  Recall: 0.95  F-score: 0.96 \n",
            "Tag: DET  Precision: 0.96  Recall: 0.99  F-score: 0.97 \n",
            "Tag: ADV  Precision: 0.90  Recall: 0.90  F-score: 0.90 \n",
            "Tag: VERB  Precision: 0.97  Recall: 0.95  F-score: 0.96 \n",
            "Tag: X  Precision: 0.72  Recall: 0.49  F-score: 0.58 \n",
            "Tag: PRON  Precision: 0.96  Recall: 0.98  F-score: 0.97 \n",
            "Tag: ADJ  Precision: 0.91  Recall: 0.91  F-score: 0.91 \n",
            "Tag: ADP  Precision: 0.95  Recall: 0.97  F-score: 0.96 \n",
            "Tag: .  Precision: 0.99  Recall: 1.00  F-score: 1.00 \n",
            "Tag: CONJ  Precision: 0.99  Recall: 0.99  F-score: 0.99 \n",
            "Tag: NUM  Precision: 0.97  Recall: 0.92  F-score: 0.94 \n"
          ]
        }
      ]
    },
    {
      "cell_type": "markdown",
      "source": [
        "We obtain the maximum precision, recall, as well as F-score for '.' tag. It seems to be the tag which is correctly identified with ease.\n",
        "\n",
        "The least precision, recall as well as F-score is recorded for 'X' tag, which has a below 50% recall.\n",
        "\n",
        "Among the other tags, 'CONJ, 'DET' and 'PRON' are the most accurately predicted tags, possibly because these words rarely have any ambiguity.\n",
        "\n",
        "The tags where the HMM performance is relatively worse are 'PRT', 'ADJ' and 'ADV'."
      ],
      "metadata": {
        "id": "6iRV2gKVHxQR"
      }
    },
    {
      "cell_type": "markdown",
      "source": [
        "# Error analysis of the HMM predictions"
      ],
      "metadata": {
        "id": "bX3oc1ZpGuXD"
      }
    },
    {
      "cell_type": "code",
      "source": [
        "# Display test sentences where more than 1/2 of the words are wrongly tagged\n",
        "count = 1\n",
        "for fold, (train_idx, test_idx) in enumerate(kfold.split(tagged_sentences)):\n",
        "    train_sentences = tagged_sentences[train_idx]\n",
        "    test_sentences = tagged_sentences[test_idx]\n",
        "\n",
        "    # Train HMM\n",
        "    transition_probs, emission_probs = calculate_transition_emission_probabilities(train_sentences)\n",
        "\n",
        "    for sentence in test_sentences:\n",
        "        y_true, y_pred = [], []\n",
        "        words = [word.lower() for word, _ in sentence]\n",
        "        true_tags = [tag for _, tag in sentence]\n",
        "        predicted_tags = viterbi(words, transition_probs, emission_probs, unique_tags)\n",
        "\n",
        "        # Align predictions and true tags (ignore start and end symbols)\n",
        "        y_true.extend(true_tags)\n",
        "        y_pred.extend(predicted_tags)\n",
        "\n",
        "        # Calculate accuracy for the current fold\n",
        "        sentence = ' '.join([word for word, _ in sentence])\n",
        "        accuracy = accuracy_score(y_true, y_pred)\n",
        "        if accuracy < 1/2:\n",
        "            print(str(count)+'.')\n",
        "            print(sentence)\n",
        "            print(y_true)\n",
        "            print(y_pred)\n",
        "            count += 1"
      ],
      "metadata": {
        "colab": {
          "base_uri": "https://localhost:8080/"
        },
        "id": "d4sIRO7OCePe",
        "outputId": "13bb7cef-4ae2-42df-d6f0-42f2732b3b50"
      },
      "execution_count": null,
      "outputs": [
        {
          "output_type": "stream",
          "name": "stdout",
          "text": [
            "1.\n",
            "Boonton\n",
            "['NOUN']\n",
            "['.']\n",
            "2.\n",
            "Would bar vehicles\n",
            "['VERB', 'VERB', 'NOUN']\n",
            "['VERB', 'NOUN', '.']\n",
            "3.\n",
            "Board oks pact\n",
            "['NOUN', 'VERB', 'NOUN']\n",
            "['NOUN', 'NOUN', '.']\n",
            "4.\n",
            "elsewhere\n",
            "['ADV']\n",
            "['.']\n",
            "5.\n",
            "Instant rivalry\n",
            "['ADJ', 'NOUN']\n",
            "['NOUN', '.']\n",
            "6.\n",
            "Food : stew a la Mulligatawny\n",
            "['NOUN', '.', 'NOUN', 'X', 'X', 'NOUN']\n",
            "['NOUN', '.', 'ADP', 'DET', 'NOUN', '.']\n",
            "7.\n",
            "Monument to togetherness\n",
            "['NOUN', 'ADP', 'NOUN']\n",
            "['NOUN', 'PRT', '.']\n",
            "8.\n",
            "Better ask before joining\n",
            "['ADJ', 'VERB', 'ADP', 'VERB']\n",
            "['ADV', 'VERB', 'ADV', '.']\n",
            "9.\n",
            "Americana\n",
            "['NOUN']\n",
            "['.']\n",
            "10.\n",
            "Canned cocktail frankfurters\n",
            "['VERB', 'NOUN', 'NOUN']\n",
            "['DET', 'NOUN', '.']\n",
            "11.\n",
            "They're easier to shade there .\n",
            "['PRT', 'ADJ', 'PRT', 'VERB', 'ADV', '.']\n",
            "['PRT', 'ADV', 'ADP', 'NOUN', 'PRT', '.']\n",
            "12.\n",
            "Breathing -- electronically analyzed\n",
            "['VERB', '.', 'ADV', 'VERB']\n",
            "['NOUN', '.', 'NOUN', '.']\n",
            "13.\n",
            "Dairy\n",
            "['NOUN']\n",
            "['.']\n",
            "14.\n",
            "Sheep fattening rations\n",
            "['NOUN', 'VERB', 'NOUN']\n",
            "['NOUN', 'NOUN', '.']\n",
            "15.\n",
            "General\n",
            "['ADJ']\n",
            "['NOUN']\n",
            "16.\n",
            "Vacations\n",
            "['NOUN']\n",
            "['.']\n",
            "17.\n",
            "Communist gains\n",
            "['ADJ', 'NOUN']\n",
            "['NOUN', '.']\n",
            "18.\n",
            "Tokyo\n",
            "['NOUN']\n",
            "['.']\n",
            "19.\n",
            "Then he launches into an attack on the Tory ministers , whom he calls the `` New Converts '' ; ;\n",
            "['X', 'X', 'X', 'X', 'X', 'X', 'X', 'X', 'X', 'X', '.', 'X', 'X', 'X', 'X', '.', 'ADJ', 'NOUN', '.', '.', '.']\n",
            "['ADV', 'PRON', 'VERB', 'ADP', 'DET', 'NOUN', 'ADP', 'DET', 'NOUN', 'NOUN', '.', 'PRON', 'PRON', 'VERB', 'DET', '.', 'ADJ', 'NOUN', '.', '.', '.']\n",
            "20.\n",
            "Repayment\n",
            "['NOUN']\n",
            "['.']\n",
            "21.\n",
            "Contact\n",
            "['VERB']\n",
            "['NOUN']\n",
            "22.\n",
            "269 F. 2d 613 .\n",
            "['NUM', 'NOUN', 'NUM', 'NUM', '.']\n",
            "['DET', 'NOUN', 'ADJ', 'NOUN', '.']\n",
            "23.\n",
            "Experimental\n",
            "['ADJ']\n",
            "['.']\n",
            "24.\n",
            "Summary\n",
            "['NOUN']\n",
            "['.']\n",
            "25.\n",
            "Analyses\n",
            "['NOUN']\n",
            "['.']\n",
            "26.\n",
            "Issue jury subpoenas\n",
            "['VERB', 'NOUN', 'NOUN']\n",
            "['NOUN', 'NOUN', '.']\n",
            "27.\n",
            "Claims precedent lacking\n",
            "['VERB', 'NOUN', 'VERB']\n",
            "['NOUN', 'NOUN', '.']\n",
            "28.\n",
            "Calls proposal modest\n",
            "['VERB', 'NOUN', 'ADJ']\n",
            "['NOUN', 'NOUN', '.']\n",
            "29.\n",
            "Oslo\n",
            "['NOUN']\n",
            "['.']\n",
            "30.\n",
            "Nothing to fear\n",
            "['NOUN', 'PRT', 'VERB']\n",
            "['NOUN', 'ADP', 'NOUN']\n",
            "31.\n",
            "Hit\n",
            "['NOUN']\n",
            "['.']\n",
            "32.\n",
            "total disinterest\n",
            "['ADJ', 'NOUN']\n",
            "['NOUN', '.']\n",
            "33.\n",
            "Undergraduates\n",
            "['NOUN']\n",
            "['.']\n",
            "34.\n",
            "Escape\n",
            "['NOUN']\n",
            "['.']\n",
            "35.\n",
            "Supports Katanga\n",
            "['VERB', 'NOUN']\n",
            "['NOUN', '.']\n",
            "36.\n",
            "Paperweight\n",
            "['NOUN']\n",
            "['.']\n",
            "37.\n",
            "Backstitching seam\n",
            "['VERB', 'NOUN']\n",
            "['NOUN', '.']\n",
            "38.\n",
            "Back circle\n",
            "['NOUN', 'NOUN']\n",
            "['ADV', '.']\n",
            "39.\n",
            "Contact\n",
            "['VERB']\n",
            "['NOUN']\n",
            "40.\n",
            "Thus , as a development program is being launched , commitments and obligations must be entered into in a given year which may exceed by twofold or threefold the expenditures to be made in that year .\n",
            "['X', '.', 'X', 'X', 'X', 'X', 'X', 'X', 'X', '.', 'X', 'X', 'X', 'X', 'X', 'X', 'X', 'X', 'X', 'X', 'X', 'X', 'X', 'X', 'X', 'X', 'X', 'X', 'X', 'X', 'X', 'X', 'X', 'X', 'X', 'X', '.']\n",
            "['ADV', '.', 'ADP', 'DET', 'NOUN', 'NOUN', 'VERB', 'VERB', 'VERB', '.', 'NOUN', 'CONJ', 'NOUN', 'VERB', 'VERB', 'VERB', 'ADP', 'ADP', 'DET', 'VERB', 'NOUN', 'DET', 'VERB', 'VERB', 'ADP', 'ADJ', 'CONJ', 'ADP', 'DET', 'NOUN', 'PRT', 'VERB', 'VERB', 'ADP', 'DET', 'NOUN', '.']\n",
            "41.\n",
            "geochemistry\n",
            "['NOUN']\n",
            "['.']\n",
            "42.\n",
            "Molding\n",
            "['VERB']\n",
            "['.']\n",
            "43.\n",
            "Thirty-three\n",
            "['NUM']\n",
            "['.']\n",
            "44.\n",
            "Kate's all right '' .\n",
            "['PRT', 'ADV', 'ADJ', '.', '.']\n",
            "['NOUN', 'PRT', 'ADV', '.', '.']\n",
            "45.\n",
            "Colquitt\n",
            "['NOUN']\n",
            "['.']\n",
            "46.\n",
            "Trenton\n",
            "['NOUN']\n",
            "['.']\n",
            "47.\n",
            "Squad cut near\n",
            "['NOUN', 'NOUN', 'ADV']\n",
            "['NOUN', 'VERB', '.']\n",
            "48.\n",
            "Parichy-Hamm\n",
            "['NOUN']\n",
            "['.']\n",
            "49.\n",
            "Burke-Rostagno\n",
            "['NOUN']\n",
            "['.']\n",
            "50.\n",
            "Vacancy\n",
            "['NOUN']\n",
            "['.']\n",
            "51.\n",
            "Boating\n",
            "['VERB']\n",
            "['.']\n",
            "52.\n",
            "More volunteer handlers needed to judge\n",
            "['ADJ', 'NOUN', 'NOUN', 'VERB', 'PRT', 'VERB']\n",
            "['ADV', 'VERB', 'NOUN', 'VERB', 'ADP', 'NOUN']\n",
            "53.\n",
            "Jiffy barbecues\n",
            "['ADJ', 'NOUN']\n",
            "['NOUN', '.']\n",
            "54.\n",
            "Trim-your-own-franks\n",
            "['NOUN']\n",
            "['.']\n",
            "55.\n",
            "Pretend ham\n",
            "['ADJ', 'NOUN']\n",
            "['VERB', '.']\n",
            "56.\n",
            "Topography\n",
            "['NOUN']\n",
            "['.']\n",
            "57.\n",
            "Backbends\n",
            "['NOUN']\n",
            "['.']\n",
            "58.\n",
            "Holidays\n",
            "['NOUN']\n",
            "['.']\n",
            "59.\n",
            "Kyoto\n",
            "['NOUN']\n",
            "['.']\n",
            "60.\n",
            "Contact\n",
            "['VERB']\n",
            "['NOUN']\n",
            "61.\n",
            "Inventory\n",
            "['NOUN']\n",
            "['.']\n",
            "62.\n",
            "Underground concrete shelter\n",
            "['ADJ', 'NOUN', 'NOUN']\n",
            "['ADV', 'ADJ', 'NOUN']\n",
            "63.\n",
            "Athletics\n",
            "['NOUN']\n",
            "['.']\n",
            "64.\n",
            "Abstract\n",
            "['ADJ']\n",
            "['.']\n",
            "65.\n",
            "Staining technique\n",
            "['VERB', 'NOUN']\n",
            "['NOUN', '.']\n",
            "66.\n",
            "Meats\n",
            "['NOUN']\n",
            "['.']\n",
            "67.\n",
            "Poultry\n",
            "['NOUN']\n",
            "['.']\n",
            "68.\n",
            "Seafood\n",
            "['NOUN']\n",
            "['.']\n",
            "69.\n",
            "Kaboom for .\n",
            "['PRT', 'ADV', '.']\n",
            "['NOUN', 'ADP', '.']\n",
            "70.\n",
            "Her laugh was hard .\n",
            "['DET', 'NOUN', 'VERB', 'ADJ', '.']\n",
            "['PRON', 'VERB', 'VERB', 'ADV', '.']\n",
            "71.\n",
            "Mayor visits Buckley\n",
            "['NOUN', 'VERB', 'NOUN']\n",
            "['NOUN', 'NOUN', '.']\n",
            "72.\n",
            "Super again elected\n",
            "['NOUN', 'ADV', 'VERB']\n",
            "['ADJ', 'ADV', '.']\n",
            "73.\n",
            "Robinson doubles again\n",
            "['NOUN', 'VERB', 'ADV']\n",
            "['NOUN', 'NOUN', '.']\n",
            "74.\n",
            "Culmone gets first win\n",
            "['NOUN', 'VERB', 'ADJ', 'NOUN']\n",
            "['PRON', 'VERB', 'ADV', '.']\n",
            "75.\n",
            "Show follows ceremonies\n",
            "['NOUN', 'VERB', 'NOUN']\n",
            "['VERB', 'VERB', '.']\n",
            "76.\n",
            "g-p men served\n",
            "['NOUN', 'NOUN', 'VERB']\n",
            "['DET', 'NOUN', '.']\n",
            "77.\n",
            "Nightclubs\n",
            "['NOUN']\n",
            "['.']\n",
            "78.\n",
            "Among\n",
            "['ADP']\n",
            "['.']\n",
            "79.\n",
            "Round plaque\n",
            "['ADJ', 'NOUN']\n",
            "['ADV', '.']\n",
            "80.\n",
            "Common drilling tools\n",
            "['ADJ', 'VERB', 'NOUN']\n",
            "['ADJ', 'NOUN', '.']\n",
            "81.\n",
            "Improvements\n",
            "['NOUN']\n",
            "['.']\n",
            "82.\n",
            "No more .\n",
            "['ADV', 'ADV', '.']\n",
            "['DET', 'ADJ', '.']\n",
            "83.\n",
            "Secretion\n",
            "['NOUN']\n",
            "['.']\n",
            "84.\n",
            "`` Y que sigue despues ? ?\n",
            "['.', 'X', 'X', 'X', 'X', '.', '.']\n",
            "['.', 'NOUN', 'ADP', 'DET', 'NOUN', '.', '.']\n",
            "85.\n",
            "Thirty-six\n",
            "['NUM']\n",
            "['.']\n",
            "86.\n",
            "Outlays would increase\n",
            "['NOUN', 'VERB', 'VERB']\n",
            "['PRON', 'VERB', 'NOUN']\n",
            "87.\n",
            "Plainfield\n",
            "['NOUN']\n",
            "['.']\n",
            "88.\n",
            "Decries joblessness\n",
            "['VERB', 'NOUN']\n",
            "['NOUN', '.']\n",
            "89.\n",
            "Attacks Republicans\n",
            "['VERB', 'NOUN']\n",
            "['NOUN', '.']\n",
            "90.\n",
            "Trenton\n",
            "['NOUN']\n",
            "['.']\n",
            "91.\n",
            "Siebern hits homer\n",
            "['NOUN', 'VERB', 'NOUN']\n",
            "['NOUN', 'NOUN', '.']\n",
            "92.\n",
            "Precise\n",
            "['ADJ']\n",
            "['.']\n",
            "93.\n",
            "Deterrent\n",
            "['NOUN']\n",
            "['.']\n",
            "94.\n",
            "Questions shelters\n",
            "['VERB', 'NOUN']\n",
            "['NOUN', '.']\n",
            "95.\n",
            "Meeting U.N. obligations\n",
            "['VERB', 'NOUN', 'NOUN']\n",
            "['NOUN', 'NOUN', '.']\n",
            "96.\n",
            "Confrontation\n",
            "['NOUN']\n",
            "['.']\n",
            "97.\n",
            "Plebian dictators\n",
            "['ADJ', 'NOUN']\n",
            "['NOUN', '.']\n",
            "98.\n",
            "Expands and contracts\n",
            "['VERB', 'CONJ', 'VERB']\n",
            "['NOUN', 'CONJ', 'NOUN']\n",
            "99.\n",
            "A contemplative connoisseur\n",
            "['DET', 'ADJ', 'NOUN']\n",
            "['DET', 'NOUN', '.']\n",
            "100.\n",
            "Festivals\n",
            "['NOUN']\n",
            "['.']\n",
            "101.\n",
            "Push-ups\n",
            "['NOUN']\n",
            "['.']\n",
            "102.\n",
            "Handstands\n",
            "['NOUN']\n",
            "['.']\n",
            "103.\n",
            "Somersaults\n",
            "['NOUN']\n",
            "['.']\n",
            "104.\n",
            "Calves\n",
            "['NOUN']\n",
            "['.']\n",
            "105.\n",
            "Sheep\n",
            "['NOUN']\n",
            "['.']\n",
            "106.\n",
            "Sheep\n",
            "['NOUN']\n",
            "['.']\n",
            "107.\n",
            "Proprietorship\n",
            "['NOUN']\n",
            "['.']\n",
            "108.\n",
            "To cooperatives\n",
            "['ADP', 'NOUN']\n",
            "['PRT', '.']\n",
            "109.\n",
            "Eligibility\n",
            "['NOUN']\n",
            "['.']\n",
            "110.\n",
            "Contact\n",
            "['VERB']\n",
            "['NOUN']\n",
            "111.\n",
            "Uniconer\n",
            "['NOUN']\n",
            "['.']\n",
            "112.\n",
            "Subsystems\n",
            "['NOUN']\n",
            "['.']\n",
            "113.\n",
            "Socialization\n",
            "['NOUN']\n",
            "['.']\n",
            "114.\n",
            "Processing urethanes\n",
            "['VERB', 'NOUN']\n",
            "['NOUN', '.']\n",
            "115.\n",
            "measuring scale --\n",
            "['X', 'X', 'X']\n",
            "['VERB', 'NOUN', '.']\n",
            "116.\n",
            "Ambiguity\n",
            "['NOUN']\n",
            "['.']\n"
          ]
        }
      ]
    },
    {
      "cell_type": "markdown",
      "source": [
        "As can be seen from here, most of the incorrect predictions are for single word sentences, which get incorrectly tagged as '.'\n",
        "\n",
        "Some sentences like 'Siebern hits homer' and 'Breathing -- electronically analyzed' are mistagged because the words 'hits' & 'Breathing' can be both verb and noun and even if given the context, it's hard to probabilistically decide what's its correct tag, even when done by a human subject.\n",
        "\n",
        "Non english sentences eg: '`` Y que sigue despues ? ' get incorrectly tagged too possibly because of very few instances of these words in the dataset."
      ],
      "metadata": {
        "id": "T9noOkxeGzzf"
      }
    },
    {
      "cell_type": "markdown",
      "source": [
        "# Demo function code"
      ],
      "metadata": {
        "id": "K3tz4jOMJpaa"
      }
    },
    {
      "cell_type": "code",
      "source": [
        "from nltk.tokenize import word_tokenize\n",
        "nltk.download('punkt')"
      ],
      "metadata": {
        "id": "ZRds-BWmCl-t",
        "colab": {
          "base_uri": "https://localhost:8080/"
        },
        "outputId": "61312daa-94e8-4bb1-b9a2-33f2e441b232"
      },
      "execution_count": null,
      "outputs": [
        {
          "output_type": "stream",
          "name": "stderr",
          "text": [
            "[nltk_data] Downloading package punkt to /root/nltk_data...\n",
            "[nltk_data]   Unzipping tokenizers/punkt.zip.\n"
          ]
        },
        {
          "output_type": "execute_result",
          "data": {
            "text/plain": [
              "True"
            ]
          },
          "metadata": {},
          "execution_count": 7
        }
      ]
    },
    {
      "cell_type": "code",
      "source": [
        "sentence = input('Enter a sentence: ')"
      ],
      "metadata": {
        "colab": {
          "base_uri": "https://localhost:8080/"
        },
        "id": "NpmGXPQ_KmBN",
        "outputId": "5cb6c321-92b7-4a76-c8a3-8c8531dd2eb6"
      },
      "execution_count": null,
      "outputs": [
        {
          "name": "stdout",
          "output_type": "stream",
          "text": [
            "Enter a sentence: I am a nice guy.\n"
          ]
        }
      ]
    },
    {
      "cell_type": "code",
      "source": [
        "def demo_hmm_pos_tagger(sentence, transition_prob, emission_prob, unique_tags):\n",
        "  tokens = word_tokenize(sentence)\n",
        "  tokens_lower_case = [token.lower() for token in tokens]\n",
        "  predicted_tags = viterbi(tokens_lower_case, transition_prob, emission_prob, unique_tags)\n",
        "  output = []\n",
        "  for token, tag in zip(tokens, predicted_tags):\n",
        "    output.append((token, tag))\n",
        "  return output"
      ],
      "metadata": {
        "id": "lPAHRPaALYzS"
      },
      "execution_count": null,
      "outputs": []
    },
    {
      "cell_type": "code",
      "source": [
        "demo_hmm_pos_tagger(sentence, tag_transition_prob, word_given_tag_prob, unique_tags)"
      ],
      "metadata": {
        "colab": {
          "base_uri": "https://localhost:8080/"
        },
        "id": "9CGNXAbHKrra",
        "outputId": "c5bc34b6-4f26-4f7f-b4f8-6a9355cce846"
      },
      "execution_count": null,
      "outputs": [
        {
          "output_type": "execute_result",
          "data": {
            "text/plain": [
              "[('I', 'PRON'),\n",
              " ('am', 'VERB'),\n",
              " ('a', 'DET'),\n",
              " ('nice', 'ADJ'),\n",
              " ('guy', 'NOUN'),\n",
              " ('.', '.')]"
            ]
          },
          "metadata": {},
          "execution_count": 40
        }
      ]
    }
  ]
}